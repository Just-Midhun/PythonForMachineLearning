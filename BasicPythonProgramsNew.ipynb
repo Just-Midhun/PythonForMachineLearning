{
  "nbformat": 4,
  "nbformat_minor": 0,
  "metadata": {
    "colab": {
      "provenance": [],
      "authorship_tag": "ABX9TyMSFSxoDjsYcLF8b7Rin31E",
      "include_colab_link": true
    },
    "kernelspec": {
      "name": "python3",
      "display_name": "Python 3"
    },
    "language_info": {
      "name": "python"
    }
  },
  "cells": [
    {
      "cell_type": "markdown",
      "metadata": {
        "id": "view-in-github",
        "colab_type": "text"
      },
      "source": [
        "<a href=\"https://colab.research.google.com/github/Just-Midhun/PythonForMachineLearning/blob/main/BasicPythonProgramsNew.ipynb\" target=\"_parent\"><img src=\"https://colab.research.google.com/assets/colab-badge.svg\" alt=\"Open In Colab\"/></a>"
      ]
    },
    {
      "cell_type": "markdown",
      "source": [
        "##1.Program to find largest of three numbers\n",
        "\n",
        "- **1.** Read the values from user<br>\n",
        "\n",
        "- **2.** Find the largest value using conditional statements `if-elif-else`\n",
        "\n",
        "- **3.** Print the largest value\n"
      ],
      "metadata": {
        "id": "m0fUQv5C8oV9"
      }
    },
    {
      "cell_type": "code",
      "execution_count": null,
      "metadata": {
        "colab": {
          "base_uri": "https://localhost:8080/"
        },
        "id": "ae6xrIcN8gm5",
        "outputId": "7cbf26db-468a-4ab7-b8f8-431c2b3aeeb0"
      },
      "outputs": [
        {
          "output_type": "stream",
          "name": "stdout",
          "text": [
            "Enter first number:4\n",
            "Enter second number: 2\n",
            "Enter third number: 5\n",
            "The largest number is 5.0\n"
          ]
        }
      ],
      "source": [
        "num1=float(input(\"Enter first number:\"))\n",
        "num2 = float(input(\"Enter second number: \"))\n",
        "num3 = float(input(\"Enter third number: \"))\n",
        "if (num1 >= num2) and (num1 >= num3):\n",
        "   largest = num1\n",
        "elif (num2 >= num1) and (num2 >= num3):\n",
        "   largest = num2\n",
        "else:\n",
        "   largest = num3\n",
        "print(\"The largest number is\", largest)"
      ]
    },
    {
      "cell_type": "markdown",
      "source": [
        "##2.Multiplication Table printing\n",
        "- **1.** Take an input number to create multication table of from user.\n",
        "- **2** Iterate the table using a `for loop` in `range 1 to 11` to multiply user number with each and print the values."
      ],
      "metadata": {
        "id": "VGMApIi2CdBD"
      }
    },
    {
      "cell_type": "code",
      "source": [
        "# Multiplication table (from 1 to 10) in Python\n",
        "\n",
        "num = 12\n",
        "\n",
        "# To take input from the user\n",
        "# num = int(input(\"Display multiplication table of? \"))\n",
        "\n",
        "# Iterate 10 times from i = 1 to 10\n",
        "for i in range(1, 11):\n",
        "   print(num, 'x', i, '=', num*i)"
      ],
      "metadata": {
        "id": "BCIpFPD-Cswi"
      },
      "execution_count": null,
      "outputs": []
    },
    {
      "cell_type": "markdown",
      "source": [
        "##3.Check for a sign of a number\n",
        "- **1.**Read the input to be checked from user.\n",
        "- **2.**Using a condition statement `if-elif-else` check if the user number is either <br>0 <br>or greater than 0 <br>or less than 0"
      ],
      "metadata": {
        "id": "Tah5keONDM0B"
      }
    },
    {
      "cell_type": "code",
      "source": [
        "num = float(input(\"Enter a number: \"))\n",
        "if num > 0:\n",
        "   print(\"Positive number\")\n",
        "elif num == 0:\n",
        "   print(\"Zero\")\n",
        "else:\n",
        "   print(\"Negative number\")"
      ],
      "metadata": {
        "colab": {
          "base_uri": "https://localhost:8080/"
        },
        "id": "kquuRQ_FDNR5",
        "outputId": "43b9a2c4-3532-40d3-bcae-af226f0858b9"
      },
      "execution_count": null,
      "outputs": [
        {
          "output_type": "stream",
          "name": "stdout",
          "text": [
            "Enter a number: 2\n",
            "Positive number\n"
          ]
        }
      ]
    },
    {
      "cell_type": "markdown",
      "source": [
        "##4.Find surface area and volume of a cylinder\n",
        "###We know that,<br>`SA=2πr(r+h), V=πr2h`\n",
        "\n",
        "- **1.**Import `pi` from `math` library.\n",
        "- **2.**Read the value of radius from user.\n",
        "- **3.**Calculate the value of surface area and Volume using the formula and print the values using `.format()`"
      ],
      "metadata": {
        "id": "lIDwGedqEJw0"
      }
    },
    {
      "cell_type": "code",
      "source": [
        "#from math import pi\n",
        "pi=3.14\n",
        "r=2.6\n",
        "h=1.6\n",
        "SA=2*pi*r*(r+h)\n",
        "V=pi*r**2*h\n",
        "print((\"Surface Area is {} and Volume is {}\").format(SA,V))"
      ],
      "metadata": {
        "colab": {
          "base_uri": "https://localhost:8080/"
        },
        "id": "FQR3phuuEHTR",
        "outputId": "265301c9-b405-4c44-9804-0db90d202837"
      },
      "execution_count": null,
      "outputs": [
        {
          "output_type": "stream",
          "name": "stdout",
          "text": [
            "Surface Area is 68.57760000000002 and Volume is 33.96224\n"
          ]
        }
      ]
    },
    {
      "cell_type": "markdown",
      "source": [
        "##5.Find the area of circle with the radius $r$\n",
        "###We know that,<br>`A=πr2`\n",
        "\n",
        "- **1.**Import `pi` from `math` library.\n",
        "- **2.**Read the value of radius from user.\n",
        "- **3.**Calculate the value of area using the formula and print the values."
      ],
      "metadata": {
        "id": "WQQ5UEm_FS2Y"
      }
    },
    {
      "cell_type": "code",
      "source": [
        "#from math import pi\n",
        "\n",
        "\"\"\"\n",
        "program to find area of a circle\n",
        "\"\"\"\n",
        "r=float(input(\"Enter the radius: \"))\n",
        "print(\"Area: \",pi*r**2)"
      ],
      "metadata": {
        "colab": {
          "base_uri": "https://localhost:8080/"
        },
        "id": "mNouFpfuFTjH",
        "outputId": "34f48040-020f-4a57-a961-70b55d6f95c4"
      },
      "execution_count": null,
      "outputs": [
        {
          "output_type": "stream",
          "name": "stdout",
          "text": [
            "Enter the radius: 3\n",
            "Area:  28.26\n"
          ]
        }
      ]
    },
    {
      "cell_type": "markdown",
      "source": [
        "##6.Find the area of a rectangle with length $l$ and breadth $b$\n",
        "###We know that,<br>`A=l*b`\n",
        "- **1.**Read the value of length and breadth from user.\n",
        "- **2.**Calculate the value of area using the formula and print the values."
      ],
      "metadata": {
        "id": "pL5jexeqGV5J"
      }
    },
    {
      "cell_type": "code",
      "source": [
        "l=2;b=5.2\n",
        "Area=l*b\n",
        "print(\"Area of the Rectangle is : \",Area)"
      ],
      "metadata": {
        "colab": {
          "base_uri": "https://localhost:8080/"
        },
        "id": "Autwcx7XGVMA",
        "outputId": "4ed34b32-d1f4-4ab1-ddb2-83c3017f970f"
      },
      "execution_count": null,
      "outputs": [
        {
          "output_type": "stream",
          "name": "stdout",
          "text": [
            "Area of the Rectangle is :  10.4\n"
          ]
        }
      ]
    },
    {
      "cell_type": "markdown",
      "source": [
        "##7.Replacing a word with another word  in a sentence\n",
        "\n",
        "Use the `replace()` method in `python`\n",
        "\n",
        ">**Syntax:**\n",
        "\n",
        "```\n",
        "str.replace(old,new)\n",
        "```\n",
        "\n",
        "- **1.**Read a text from user.\n",
        "- **2.**Using the syntax for replace, replace a desired part of the read text with any other word.\n"
      ],
      "metadata": {
        "id": "ukT0r2tXG2tp"
      }
    },
    {
      "cell_type": "code",
      "source": [
        "# program to replace a word by another word in a sentence\n",
        "\n",
        "text = 'hand ball is a hand full of hands'\n",
        "\n",
        "# replace 'hand' with 'foot'\n",
        "replaced_text = text.replace('hand ', 'foot ')\n",
        "print(replaced_text)"
      ],
      "metadata": {
        "colab": {
          "base_uri": "https://localhost:8080/"
        },
        "id": "EncyvLvhG21Y",
        "outputId": "63345c14-bda5-4a53-ab10-6e3fff0b3403"
      },
      "execution_count": null,
      "outputs": [
        {
          "output_type": "stream",
          "name": "stdout",
          "text": [
            "foot ball is a foot full of hands\n"
          ]
        }
      ]
    },
    {
      "cell_type": "markdown",
      "source": [
        "##8.Program to remove a word from a sentence\n",
        "\n",
        "We will use the string method `remove()`.\n",
        "\n",
        ">**Syntax:**\n",
        "\n",
        "```\n",
        "str.remove(word to be removed)\n",
        "```\n",
        "\n",
        "- **1.**Read a text from user.\n",
        "- **2.**Using the syntax for replace, replace a desired part of the read text with any other word."
      ],
      "metadata": {
        "id": "1SanqNgYHwUu"
      }
    },
    {
      "cell_type": "code",
      "source": [
        "# program to remove a word from a sentence\n",
        "text = input(\"Enter the String: \")\n",
        "word = input(\"Enter a Word to Delete: \")\n",
        "\n",
        "text = text.remove(word)\n",
        "print(\"The updated sentence is:\\n\")\n",
        "print(text)"
      ],
      "metadata": {
        "colab": {
          "base_uri": "https://localhost:8080/",
          "height": 271
        },
        "id": "AItP_CoKHwsf",
        "outputId": "1ded3ef5-e4c5-4cba-f8b5-9aa023bbaa6f"
      },
      "execution_count": null,
      "outputs": [
        {
          "name": "stdout",
          "output_type": "stream",
          "text": [
            "Enter the String: good morning\n",
            "Enter a Word to Delete: morning\n"
          ]
        },
        {
          "output_type": "error",
          "ename": "AttributeError",
          "evalue": "ignored",
          "traceback": [
            "\u001b[0;31m---------------------------------------------------------------------------\u001b[0m",
            "\u001b[0;31mAttributeError\u001b[0m                            Traceback (most recent call last)",
            "\u001b[0;32m<ipython-input-14-d70910caf4e5>\u001b[0m in \u001b[0;36m<cell line: 5>\u001b[0;34m()\u001b[0m\n\u001b[1;32m      3\u001b[0m \u001b[0mword\u001b[0m \u001b[0;34m=\u001b[0m \u001b[0minput\u001b[0m\u001b[0;34m(\u001b[0m\u001b[0;34m\"Enter a Word to Delete: \"\u001b[0m\u001b[0;34m)\u001b[0m\u001b[0;34m\u001b[0m\u001b[0;34m\u001b[0m\u001b[0m\n\u001b[1;32m      4\u001b[0m \u001b[0;34m\u001b[0m\u001b[0m\n\u001b[0;32m----> 5\u001b[0;31m \u001b[0mtext\u001b[0m \u001b[0;34m=\u001b[0m \u001b[0mtext\u001b[0m\u001b[0;34m.\u001b[0m\u001b[0mremove\u001b[0m\u001b[0;34m(\u001b[0m\u001b[0mword\u001b[0m\u001b[0;34m)\u001b[0m\u001b[0;34m\u001b[0m\u001b[0;34m\u001b[0m\u001b[0m\n\u001b[0m\u001b[1;32m      6\u001b[0m \u001b[0mprint\u001b[0m\u001b[0;34m(\u001b[0m\u001b[0;34m\"The updated sentence is:\\n\"\u001b[0m\u001b[0;34m)\u001b[0m\u001b[0;34m\u001b[0m\u001b[0;34m\u001b[0m\u001b[0m\n\u001b[1;32m      7\u001b[0m \u001b[0mprint\u001b[0m\u001b[0;34m(\u001b[0m\u001b[0mtext\u001b[0m\u001b[0;34m)\u001b[0m\u001b[0;34m\u001b[0m\u001b[0;34m\u001b[0m\u001b[0m\n",
            "\u001b[0;31mAttributeError\u001b[0m: 'str' object has no attribute 'remove'"
          ]
        }
      ]
    },
    {
      "cell_type": "markdown",
      "source": [
        "##9.Program to split a sentence into words\n",
        "\n",
        "use the `split()` method\n",
        ">**Syntax:**\n",
        "```\n",
        "str.split()\n",
        "```\n",
        "\n",
        "- **1.**Read the sentece to be split into list by user.\n",
        "- **2.**Using the `split()` command split the read sentence into a new wordlist as individual elements."
      ],
      "metadata": {
        "id": "tgNnXYLRJTCu"
      }
    },
    {
      "cell_type": "code",
      "source": [
        "wordlist = text.split()\n",
        "wordlist"
      ],
      "metadata": {
        "colab": {
          "base_uri": "https://localhost:8080/"
        },
        "id": "8Qawy1v9JTbt",
        "outputId": "0a8a84d3-1dc6-46b6-8818-e99774b5be3d"
      },
      "execution_count": null,
      "outputs": [
        {
          "output_type": "execute_result",
          "data": {
            "text/plain": [
              "['are', 'you', 'doing']"
            ]
          },
          "metadata": {},
          "execution_count": 12
        }
      ]
    },
    {
      "cell_type": "markdown",
      "source": [
        "##10.Program to check if a list of words is in a long string at least one\n",
        "- **1.**Create a list of keywords and store in a `List`.\n",
        "- **2.**Read a text from user to check if any keyword exists in the text.\n",
        "- **3.**Split the text from user into a new list using `split()`.\n",
        "- **4.**Compare both the list by using the `intersection()` function and if found print *Found*.\n",
        "\n"
      ],
      "metadata": {
        "id": "R-xRhZjcKo5t"
      }
    },
    {
      "cell_type": "code",
      "source": [
        "# program to check atleat one occurance of keywords\n",
        "\n",
        "keyword_list = ['motorcycle', 'bike', 'bicycle', 'dirtbike', \"long\"]\n",
        "all_text = 'The bicycle is just as good company as most husbands and, when it gets old and shabby, a woman can dispose of it and get a new one without shocking the entire community'\n",
        "if set(keyword_list).intersection(all_text.split()):\n",
        "     print(\"Found One\")"
      ],
      "metadata": {
        "colab": {
          "base_uri": "https://localhost:8080/"
        },
        "id": "_2IiXp9EKpRt",
        "outputId": "ab8e6d86-1a41-4192-8085-7273da3259c0"
      },
      "execution_count": null,
      "outputs": [
        {
          "output_type": "stream",
          "name": "stdout",
          "text": [
            "Found One\n"
          ]
        }
      ]
    },
    {
      "cell_type": "markdown",
      "source": [
        "##11.program to check a number is even or odd\n",
        "- **1.**Read the number to be checked from user.\n",
        "- **2.**Check if the number is divisible by 2 using `if-else`.\n",
        "- **3.**If divisible: print even, else: print odd."
      ],
      "metadata": {
        "id": "Dm6_VgusM4mt"
      }
    },
    {
      "cell_type": "code",
      "source": [
        "num = int(input(\"Enter the Number: \"))\n",
        "if num%2==0:\n",
        "    print(\"\\n\",num,\"is an Even Number\")\n",
        "else:\n",
        "    print(\"\\n\",num,\"is an Odd Number\")"
      ],
      "metadata": {
        "colab": {
          "base_uri": "https://localhost:8080/"
        },
        "id": "_91DdD2RM45E",
        "outputId": "85a21ba5-8e85-4a7d-d3e0-d5e7f84ca874"
      },
      "execution_count": null,
      "outputs": [
        {
          "output_type": "stream",
          "name": "stdout",
          "text": [
            "Enter the Number: 44\n",
            "\n",
            " 44 is an Even Number\n"
          ]
        }
      ]
    },
    {
      "cell_type": "markdown",
      "source": [
        "###12.Program to check whether an entered one is an alphabet or not\n",
        "- **1.**Read a value from user.\n",
        "- **2.**Using `if-else` and `OR` check if the entered value is comparable to a range of alphabets."
      ],
      "metadata": {
        "id": "WPTEDg4kNlaD"
      }
    },
    {
      "cell_type": "code",
      "source": [
        "c = input(\"Enter a Character: \")\n",
        "if c>='a' and c<='z':\n",
        "    print(\"\\nIt is an alphabet\")\n",
        "elif c>='A' and c<='z':\n",
        "    print(\"\\nIt is an alphabet\")\n",
        "else:\n",
        "    print(\"\\nIt is not an alphabet!\")"
      ],
      "metadata": {
        "colab": {
          "base_uri": "https://localhost:8080/"
        },
        "id": "zgM4b-l4NluV",
        "outputId": "d6b02ad3-8fcc-4b0b-d4f0-661b478be369"
      },
      "execution_count": null,
      "outputs": [
        {
          "output_type": "stream",
          "name": "stdout",
          "text": [
            "Enter a Character: $\n",
            "\n",
            "It is not an alphabet!\n"
          ]
        }
      ]
    },
    {
      "cell_type": "markdown",
      "source": [
        "###13.Program to check whether an entered letter is a vowel or not\n",
        "- **1.**Read an alphabet from user.\n",
        "- **2.**Create a set for the existing vowels using `{}`.\n",
        "- **3.**Using `if-else` and `in` condition check if the read alphabet falls in the set of vowels."
      ],
      "metadata": {
        "id": "oAyI0BVLOHpt"
      }
    },
    {
      "cell_type": "code",
      "source": [
        "c = input(\"Enter the Character: \")\n",
        "v={'a','e','i','o','u','A','E','I','O','U'}\n",
        "if c in v:\n",
        "    print(\"\\nIt is a Vowel\")\n",
        "else:\n",
        "    print(\"\\nIt is a Consonant\")"
      ],
      "metadata": {
        "colab": {
          "base_uri": "https://localhost:8080/"
        },
        "id": "JogpJROoOIEj",
        "outputId": "a910b987-7bd2-443d-f3ae-a7a321041fe0"
      },
      "execution_count": null,
      "outputs": [
        {
          "output_type": "stream",
          "name": "stdout",
          "text": [
            "Enter the Character: k\n",
            "\n",
            "It is a Consonant\n"
          ]
        }
      ]
    }
  ]
}