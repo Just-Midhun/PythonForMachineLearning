{
  "nbformat": 4,
  "nbformat_minor": 0,
  "metadata": {
    "colab": {
      "provenance": [],
      "authorship_tag": "ABX9TyNyi3p5+sOkah74eYxMW9ic",
      "include_colab_link": true
    },
    "kernelspec": {
      "name": "python3",
      "display_name": "Python 3"
    },
    "language_info": {
      "name": "python"
    }
  },
  "cells": [
    {
      "cell_type": "markdown",
      "metadata": {
        "id": "view-in-github",
        "colab_type": "text"
      },
      "source": [
        "<a href=\"https://colab.research.google.com/github/Just-Midhun/PythonForMachineLearning/blob/main/BasicPy.ipynb\" target=\"_parent\"><img src=\"https://colab.research.google.com/assets/colab-badge.svg\" alt=\"Open In Colab\"/></a>"
      ]
    },
    {
      "cell_type": "markdown",
      "source": [
        "Introduction to `python`\n",
        "\n",
        "First program. Display a Hello"
      ],
      "metadata": {
        "id": "2H8sJQwZv0N-"
      }
    },
    {
      "cell_type": "code",
      "source": [
        "print(\"Hello\")"
      ],
      "metadata": {
        "colab": {
          "base_uri": "https://localhost:8080/"
        },
        "id": "d0cRMr-swVCl",
        "outputId": "7ca84347-3237-4fc8-b61a-25ba83b5c7c2"
      },
      "execution_count": 1,
      "outputs": [
        {
          "output_type": "stream",
          "name": "stdout",
          "text": [
            "Hello\n"
          ]
        }
      ]
    },
    {
      "cell_type": "markdown",
      "source": [
        ">Program to align an integer and display it"
      ],
      "metadata": {
        "id": "vs1qRNjOx1_t"
      }
    },
    {
      "cell_type": "code",
      "source": [
        "a=10\n",
        "print(\"Value of the given string is\",a)"
      ],
      "metadata": {
        "colab": {
          "base_uri": "https://localhost:8080/"
        },
        "id": "UySqRO68xVx-",
        "outputId": "65af5e86-05d0-49c6-a4d9-e324b41118e2"
      },
      "execution_count": 4,
      "outputs": [
        {
          "output_type": "stream",
          "name": "stdout",
          "text": [
            "Value of the given string is 10\n"
          ]
        }
      ]
    },
    {
      "cell_type": "markdown",
      "source": [
        ">Program to add 2 numbers"
      ],
      "metadata": {
        "id": "8oWNyqdYyEo8"
      }
    },
    {
      "cell_type": "code",
      "source": [
        "a=10\n",
        "b=24\n",
        "print(\"sum of the given numbers is\",a+b)"
      ],
      "metadata": {
        "colab": {
          "base_uri": "https://localhost:8080/"
        },
        "id": "JFYjV08XyILO",
        "outputId": "d541acc1-870b-4a94-cbee-48b8941d2d08"
      },
      "execution_count": 5,
      "outputs": [
        {
          "output_type": "stream",
          "name": "stdout",
          "text": [
            "sum of the given numbers is 34\n"
          ]
        }
      ]
    },
    {
      "cell_type": "markdown",
      "source": [
        ">Reading numbers from user and getting sum"
      ],
      "metadata": {
        "id": "_mURmJ3Xyx3U"
      }
    },
    {
      "cell_type": "code",
      "source": [
        "a=input(\"Enter 1st number to find sum: \")\n",
        "\n",
        "b=input(\"Enter 2nd number to find sum: \")\n",
        "\n",
        "#Type conversion is needed as the input is read directly as a string\n",
        "sum=int(a)+int(b)\n",
        "\n",
        "print(\"sum of given 2 numbers:\",sum)\n"
      ],
      "metadata": {
        "colab": {
          "base_uri": "https://localhost:8080/"
        },
        "id": "qpzao_Ney34U",
        "outputId": "dbc92129-117b-459b-c68a-f778d2f34df3"
      },
      "execution_count": 9,
      "outputs": [
        {
          "output_type": "stream",
          "name": "stdout",
          "text": [
            "Enter 1st number to find sum4\n",
            "Enter 2nd number to find sum5\n",
            "sum of given 2 numbers: 9\n"
          ]
        }
      ]
    },
    {
      "cell_type": "markdown",
      "source": [],
      "metadata": {
        "id": "2ATVNtPo0F50"
      }
    }
  ]
}